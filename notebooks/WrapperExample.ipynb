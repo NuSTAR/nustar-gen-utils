{
 "cells": [
  {
   "cell_type": "code",
   "execution_count": null,
   "metadata": {},
   "outputs": [],
   "source": [
    "from importlib import reload\n",
    "from nustar_gen import wrappers, info\n",
    "import os"
   ]
  },
  {
   "cell_type": "markdown",
   "metadata": {},
   "source": [
    "# NOTE!!!!\n",
    "#### The code below is an *example* only for how to generate a shell script to run nuproducts.\n",
    "\n",
    "### IT WILL NOT WORK WITH THE EXAMPLE DATA IN THIS REPOSITORY\n",
    "\n",
    "#### Please use it as a template only for your own analysis.\n",
    "\n",
    "These scripts do not actually run nuproducts (since that can take a long time), so they instead genreated executable scripts that can be run on the command line withe fields correctly populated (i.e. for barycenter corrected lightcurves).\n",
    "\n",
    "Note that right now this does *not* provide a barycenter-corrected *eventfile*. Do do this, add \"cleanup=no\" to the nuproducts command. A future version of nuproducts will provide a direct parameter to save the barycenter corrected events."
   ]
  },
  {
   "cell_type": "markdown",
   "metadata": {},
   "source": [
    "### How to make lightcurves"
   ]
  },
  {
   "cell_type": "code",
   "execution_count": null,
   "metadata": {},
   "outputs": [],
   "source": [
    "# top == some path to your top level data directory.\n",
    "\n",
    "seqid='30001039002'\n",
    "obs = info.Observation(path=f'{top}/data/', seqid=seqid)\n",
    "evfile = obs.science_files[mod][0]\n",
    "regfile = obs._evdir+f'src{mod}01.reg'\n",
    "bgdreg = obs._evdir+f'bgd{mod}01.reg'\n",
    "\n",
    "obs.set_outpath = f'{top}/products/{obs.seqid}/lightcurves'\n",
    "\n",
    "\n",
    "pairs = [[3, 20], [20, 30], [30, 40], [40, 50], [50, 80]]\n",
    "for [elow, ehigh] in pairs:\n",
    "    shfile = wrappers.make_lightcurve(evfile, mod, regfile,\n",
    "                             elow=elow, ehigh=ehigh, bgd_reg=bgdreg,\n",
    "                             outpath=obs.out_path, barycorr=True)\n",
    "    print(shfile)\n",
    "print()"
   ]
  },
  {
   "cell_type": "markdown",
   "metadata": {},
   "source": [
    "### How to make spectra"
   ]
  },
  {
   "cell_type": "code",
   "execution_count": null,
   "metadata": {},
   "outputs": [],
   "source": [
    "# top == some path to your top level data directory.\n",
    "seqid='30001039002'\n",
    "obs = info.Observation(path=f'{top}/data/', seqid=seqid)\n",
    "evfile = obs.science_files[mod][0]\n",
    "regfile = obs._evdir+f'src{mod}01.reg'\n",
    "bgdreg = obs._evdir+f'bgd{mod}01.reg'\n",
    "\n",
    "obs.set_outpath = f'{top}/products/{obs.seqid}/spectra'\n",
    "\n",
    "\n",
    "shfile = wrappers.make_spectra(evfile, mod, regfile, outpath=obs.out_path)\n",
    "print(shfile)"
   ]
  }
 ],
 "metadata": {
  "kernelspec": {
   "display_name": "Python 3 (ipykernel)",
   "language": "python",
   "name": "python3"
  },
  "language_info": {
   "codemirror_mode": {
    "name": "ipython",
    "version": 3
   },
   "file_extension": ".py",
   "mimetype": "text/x-python",
   "name": "python",
   "nbconvert_exporter": "python",
   "pygments_lexer": "ipython3",
   "version": "3.9.7"
  }
 },
 "nbformat": 4,
 "nbformat_minor": 4
}
