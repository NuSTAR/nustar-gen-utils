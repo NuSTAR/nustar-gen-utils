{
 "cells": [
  {
   "cell_type": "code",
   "execution_count": 84,
   "metadata": {},
   "outputs": [
    {
     "data": {
      "text/plain": [
       "<module 'nustar_gen.info' from '/Users/bwgref/science/local/git/nustar-gen-utils/nustar_gen/info.py'>"
      ]
     },
     "execution_count": 84,
     "metadata": {},
     "output_type": "execute_result"
    }
   ],
   "source": [
    "from importlib import reload\n",
    "from nustar_gen import info\n",
    "reload(info)"
   ]
  },
  {
   "cell_type": "code",
   "execution_count": 87,
   "metadata": {},
   "outputs": [],
   "source": [
    "# Set up the observation class with the current working directory,\n",
    "# which should be where all of your data live.\n",
    "obs = info.Observation(path='./example_data/')"
   ]
  },
  {
   "cell_type": "code",
   "execution_count": null,
   "metadata": {},
   "outputs": [],
   "source": [
    "# Set the sequence ID. Assumes data are located obs.path+obs.seqid\n",
    "obs.set_seqid = '30001039002'\n"
   ]
  },
  {
   "cell_type": "code",
   "execution_count": 92,
   "metadata": {},
   "outputs": [],
   "source": [
    "# Alternatively, can be set directly in the info.Observation call:\n",
    "obs = info.Observation(path='./example_data/', seqid='30001039002')"
   ]
  },
  {
   "cell_type": "code",
   "execution_count": 93,
   "metadata": {},
   "outputs": [],
   "source": [
    "# Set the output path. Default is the same location as the data (i.e. the\n",
    "# event_cl subdirectory or obs.path+obs.seqid). You can modify this here: \n",
    "obs.set_outpath = obs.set_seqid+'/products'"
   ]
  },
  {
   "cell_type": "code",
   "execution_count": 94,
   "metadata": {},
   "outputs": [
    {
     "data": {
      "text/plain": [
       "{'A': ['./example_data/30001039002/event_cl/nu30001039002A01_cl.evt'], 'B': []}"
      ]
     },
     "execution_count": 94,
     "metadata": {},
     "output_type": "execute_result"
    }
   ],
   "source": [
    "# Print out a list of the science files. For the exampel distro\n",
    "# we just include the FPMA 01 cleaned event file:\n",
    "obs.science_files"
   ]
  },
  {
   "cell_type": "code",
   "execution_count": 95,
   "metadata": {},
   "outputs": [
    {
     "name": "stdout",
     "output_type": "stream",
     "text": [
      "Exposure for FPMA, mode 01 is:      39.98 ks\n",
      "\n",
      "\n"
     ]
    }
   ],
   "source": [
    "# Get a nicely formatted report of how much exposure is in each type of file.\n",
    "# Note that only 01 and 06 are \"scinece\" data files. See the software user's\n",
    "# guide.\n",
    "#Example data only has the FPMA data file. Full data sets will report the \n",
    "obs.exposure_report()"
   ]
  },
  {
   "cell_type": "code",
   "execution_count": 96,
   "metadata": {},
   "outputs": [],
   "source": [
    "# Pull down the background report PDFs from the SOC.\n",
    "# This puts the PDFs in the obs.out_path directory\n",
    "obs.download_bgd_report()"
   ]
  }
 ],
 "metadata": {
  "kernelspec": {
   "display_name": "Python 3",
   "language": "python",
   "name": "python3"
  },
  "language_info": {
   "codemirror_mode": {
    "name": "ipython",
    "version": 3
   },
   "file_extension": ".py",
   "mimetype": "text/x-python",
   "name": "python",
   "nbconvert_exporter": "python",
   "pygments_lexer": "ipython3",
   "version": "3.7.4"
  }
 },
 "nbformat": 4,
 "nbformat_minor": 2
}
