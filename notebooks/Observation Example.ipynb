{
 "cells": [
  {
   "cell_type": "code",
   "execution_count": 11,
   "metadata": {},
   "outputs": [],
   "source": [
    "from nustar_gen import info\n",
    "import os"
   ]
  },
  {
   "cell_type": "markdown",
   "metadata": {},
   "source": [
    "# Set up the observation class with the current working directory, which should be where all of your data live. Also see the full [documentation](https://nustar-gen-utils.readthedocs.io/en/latest/info.html#nustar_gen.info.Observation) for more details\n",
    "## You must also specify sequence ID that you want to use:"
   ]
  },
  {
   "cell_type": "code",
   "execution_count": 4,
   "metadata": {},
   "outputs": [
    {
     "name": "stdout",
     "output_type": "stream",
     "text": [
      "/Users/bwgref/science/local/git/nustar-gen-utils/notebooks/example_data\n",
      "30001039002\n",
      "/Users/bwgref/science/local/git/nustar-gen-utils/notebooks/example_data/30001039002/event_cl\n"
     ]
    }
   ],
   "source": [
    "obs = info.Observation(path='./example_data/', seqid='30001039002')\n",
    "print(obs.path)\n",
    "print(obs.seqid)\n",
    "print(obs.evdir)"
   ]
  },
  {
   "cell_type": "markdown",
   "metadata": {},
   "source": [
    "# You may specify the event file directory:\n",
    "## By default is assumed to be here: "
   ]
  },
  {
   "cell_type": "code",
   "execution_count": 5,
   "metadata": {},
   "outputs": [
    {
     "name": "stdout",
     "output_type": "stream",
     "text": [
      "/Users/bwgref/science/local/git/nustar-gen-utils/notebooks/example_data/30001039002/event_cl\n"
     ]
    }
   ],
   "source": [
    "obs = info.Observation(path='./example_data/', seqid='30001039002')\n",
    "print(obs.evdir)"
   ]
  },
  {
   "cell_type": "markdown",
   "metadata": {},
   "source": [
    "## However, you can specify this directly with a full path:"
   ]
  },
  {
   "cell_type": "code",
   "execution_count": 6,
   "metadata": {},
   "outputs": [
    {
     "name": "stdout",
     "output_type": "stream",
     "text": [
      "/Users/bwgref/science/local/git/nustar-gen-utils/notebooks/example_data/30001039002/event_cl\n"
     ]
    }
   ],
   "source": [
    "obs = info.Observation(path='./example_data/', seqid='30001039002', evdir='./example_data/30001039002/event_cl/')\n",
    "print(obs.evdir)"
   ]
  },
  {
   "cell_type": "markdown",
   "metadata": {},
   "source": [
    "## If this location does not exist, then this throws an assertion error:"
   ]
  },
  {
   "cell_type": "code",
   "execution_count": 8,
   "metadata": {},
   "outputs": [
    {
     "ename": "AssertionError",
     "evalue": "Event file path does not exist! /Users/bwgref/science/local/git/nustar-gen-utils/notebooks/example_data/30001039002/event_cl2",
     "output_type": "error",
     "traceback": [
      "\u001b[0;31m---------------------------------------------------------------------------\u001b[0m",
      "\u001b[0;31mAssertionError\u001b[0m                            Traceback (most recent call last)",
      "Input \u001b[0;32mIn [8]\u001b[0m, in \u001b[0;36m<module>\u001b[0;34m\u001b[0m\n\u001b[0;32m----> 1\u001b[0m obs \u001b[38;5;241m=\u001b[39m \u001b[43minfo\u001b[49m\u001b[38;5;241;43m.\u001b[39;49m\u001b[43mObservation\u001b[49m\u001b[43m(\u001b[49m\u001b[43mpath\u001b[49m\u001b[38;5;241;43m=\u001b[39;49m\u001b[38;5;124;43m'\u001b[39;49m\u001b[38;5;124;43m./example_data/\u001b[39;49m\u001b[38;5;124;43m'\u001b[39;49m\u001b[43m,\u001b[49m\u001b[43m \u001b[49m\u001b[43mseqid\u001b[49m\u001b[38;5;241;43m=\u001b[39;49m\u001b[38;5;124;43m'\u001b[39;49m\u001b[38;5;124;43m30001039002\u001b[39;49m\u001b[38;5;124;43m'\u001b[39;49m\u001b[43m,\u001b[49m\u001b[43m \u001b[49m\u001b[43mevdir\u001b[49m\u001b[38;5;241;43m=\u001b[39;49m\u001b[38;5;124;43m'\u001b[39;49m\u001b[38;5;124;43m./example_data/30001039002/event_cl2/\u001b[39;49m\u001b[38;5;124;43m'\u001b[39;49m\u001b[43m)\u001b[49m\n",
      "File \u001b[0;32m~/science/local/git/nustar-gen-utils/nustar_gen/info.py:203\u001b[0m, in \u001b[0;36mObservation.__init__\u001b[0;34m(self, path, seqid, evdir, out_path)\u001b[0m\n\u001b[1;32m    201\u001b[0m \u001b[38;5;28;01mif\u001b[39;00m evdir \u001b[38;5;129;01mis\u001b[39;00m \u001b[38;5;129;01mnot\u001b[39;00m \u001b[38;5;28;01mFalse\u001b[39;00m:\n\u001b[1;32m    202\u001b[0m     evdir \u001b[38;5;241m=\u001b[39m os\u001b[38;5;241m.\u001b[39mpath\u001b[38;5;241m.\u001b[39mabspath(evdir)\n\u001b[0;32m--> 203\u001b[0m     \u001b[38;5;28;43mself\u001b[39;49m\u001b[38;5;241;43m.\u001b[39;49m\u001b[43m_set_evdir\u001b[49m\u001b[43m(\u001b[49m\u001b[43mevdir\u001b[49m\u001b[43m,\u001b[49m\u001b[43m \u001b[49m\u001b[43mlock\u001b[49m\u001b[38;5;241;43m=\u001b[39;49m\u001b[38;5;28;43;01mTrue\u001b[39;49;00m\u001b[43m)\u001b[49m\n\u001b[1;32m    206\u001b[0m \u001b[38;5;28;01mif\u001b[39;00m seqid \u001b[38;5;129;01mis\u001b[39;00m \u001b[38;5;28;01mFalse\u001b[39;00m:\n\u001b[1;32m    207\u001b[0m     \u001b[38;5;28mself\u001b[39m\u001b[38;5;241m.\u001b[39m_seqid\u001b[38;5;241m=\u001b[39m\u001b[38;5;28;01mFalse\u001b[39;00m\n",
      "File \u001b[0;32m~/science/local/git/nustar-gen-utils/nustar_gen/info.py:266\u001b[0m, in \u001b[0;36mObservation._set_evdir\u001b[0;34m(self, value, lock)\u001b[0m\n\u001b[1;32m    262\u001b[0m \u001b[38;5;28;01melse\u001b[39;00m:\n\u001b[1;32m    263\u001b[0m     \u001b[38;5;66;03m# Try the default:\u001b[39;00m\n\u001b[1;32m    264\u001b[0m     \u001b[38;5;28mself\u001b[39m\u001b[38;5;241m.\u001b[39m_evdir\u001b[38;5;241m=\u001b[39mos\u001b[38;5;241m.\u001b[39mpath\u001b[38;5;241m.\u001b[39mjoin(\u001b[38;5;28mself\u001b[39m\u001b[38;5;241m.\u001b[39m_path, )\n\u001b[0;32m--> 266\u001b[0m \u001b[38;5;28;01massert\u001b[39;00m os\u001b[38;5;241m.\u001b[39mpath\u001b[38;5;241m.\u001b[39misdir(\u001b[38;5;28mself\u001b[39m\u001b[38;5;241m.\u001b[39m_evdir), \u001b[38;5;124mf\u001b[39m\u001b[38;5;124m\"\u001b[39m\u001b[38;5;124mEvent file path does not exist! \u001b[39m\u001b[38;5;132;01m{\u001b[39;00m\u001b[38;5;28mself\u001b[39m\u001b[38;5;241m.\u001b[39m_evdir\u001b[38;5;132;01m}\u001b[39;00m\u001b[38;5;124m\"\u001b[39m\n\u001b[1;32m    267\u001b[0m \u001b[38;5;66;03m# Set the lock flag\u001b[39;00m\n\u001b[1;32m    268\u001b[0m \u001b[38;5;28;01mif\u001b[39;00m lock \u001b[38;5;129;01mis\u001b[39;00m \u001b[38;5;28;01mTrue\u001b[39;00m:\n",
      "\u001b[0;31mAssertionError\u001b[0m: Event file path does not exist! /Users/bwgref/science/local/git/nustar-gen-utils/notebooks/example_data/30001039002/event_cl2"
     ]
    }
   ],
   "source": [
    "obs = info.Observation(path='./example_data/', seqid='30001039002', evdir='./example_data/30001039002/event_cl2/')"
   ]
  },
  {
   "cell_type": "markdown",
   "metadata": {},
   "source": [
    "# You may specify the output directory:\n",
    "## By default is the same location as the data (i.e. the event_cl subdirectory or obs.path+obs.seqid). You can modify this here: "
   ]
  },
  {
   "cell_type": "code",
   "execution_count": 17,
   "metadata": {},
   "outputs": [
    {
     "name": "stdout",
     "output_type": "stream",
     "text": [
      "Default: /Users/bwgref/science/local/git/nustar-gen-utils/notebooks/example_data/30001039002/event_cl\n",
      "After being set: /Users/bwgref/science/local/git/nustar-gen-utils/notebooks/example_data/30001039002/products\n"
     ]
    }
   ],
   "source": [
    "obs = info.Observation(path='./example_data/', seqid='30001039002')\n",
    "print(f\"Default: {obs.out_path}\")\n",
    "example_out = os.path.join( os.path.join(obs.path, obs.seqid), 'products')\n",
    "obs.set_outpath(example_out)\n",
    "print(f\"After being set: {obs.out_path}\")"
   ]
  },
  {
   "cell_type": "markdown",
   "metadata": {},
   "source": [
    "## Or you can set this when invoking Observation()"
   ]
  },
  {
   "cell_type": "code",
   "execution_count": 19,
   "metadata": {},
   "outputs": [
    {
     "name": "stdout",
     "output_type": "stream",
     "text": [
      "/Users/bwgref/science/local/git/nustar-gen-utils/notebooks/example_data/30001039002/products\n"
     ]
    }
   ],
   "source": [
    "obs = info.Observation(path='./example_data/', seqid='30001039002', out_path='./example_data/30001039002/products/')\n",
    "print(obs.out_path)"
   ]
  },
  {
   "cell_type": "markdown",
   "metadata": {},
   "source": [
    "## Note that if the output directory doesn't exist, then you get an assertion error:\n"
   ]
  },
  {
   "cell_type": "code",
   "execution_count": 20,
   "metadata": {},
   "outputs": [
    {
     "ename": "AssertionError",
     "evalue": "Output path does not exist! /Users/bwgref/science/local/git/nustar-gen-utils/notebooks/example_data/30001039002/products2",
     "output_type": "error",
     "traceback": [
      "\u001b[0;31m---------------------------------------------------------------------------\u001b[0m",
      "\u001b[0;31mAssertionError\u001b[0m                            Traceback (most recent call last)",
      "Input \u001b[0;32mIn [20]\u001b[0m, in \u001b[0;36m<module>\u001b[0;34m\u001b[0m\n\u001b[0;32m----> 1\u001b[0m obs \u001b[38;5;241m=\u001b[39m \u001b[43minfo\u001b[49m\u001b[38;5;241;43m.\u001b[39;49m\u001b[43mObservation\u001b[49m\u001b[43m(\u001b[49m\u001b[43mpath\u001b[49m\u001b[38;5;241;43m=\u001b[39;49m\u001b[38;5;124;43m'\u001b[39;49m\u001b[38;5;124;43m./example_data/\u001b[39;49m\u001b[38;5;124;43m'\u001b[39;49m\u001b[43m,\u001b[49m\u001b[43m \u001b[49m\u001b[43mseqid\u001b[49m\u001b[38;5;241;43m=\u001b[39;49m\u001b[38;5;124;43m'\u001b[39;49m\u001b[38;5;124;43m30001039002\u001b[39;49m\u001b[38;5;124;43m'\u001b[39;49m\u001b[43m,\u001b[49m\u001b[43m \u001b[49m\u001b[43mout_path\u001b[49m\u001b[38;5;241;43m=\u001b[39;49m\u001b[38;5;124;43m'\u001b[39;49m\u001b[38;5;124;43m./example_data/30001039002/products2/\u001b[39;49m\u001b[38;5;124;43m'\u001b[39;49m\u001b[43m)\u001b[49m\n",
      "File \u001b[0;32m~/science/local/git/nustar-gen-utils/nustar_gen/info.py:218\u001b[0m, in \u001b[0;36mObservation.__init__\u001b[0;34m(self, path, seqid, evdir, out_path)\u001b[0m\n\u001b[1;32m    216\u001b[0m \u001b[38;5;28;01melse\u001b[39;00m:\n\u001b[1;32m    217\u001b[0m     out_path \u001b[38;5;241m=\u001b[39m os\u001b[38;5;241m.\u001b[39mpath\u001b[38;5;241m.\u001b[39mabspath(out_path)\n\u001b[0;32m--> 218\u001b[0m     \u001b[38;5;28;43mself\u001b[39;49m\u001b[38;5;241;43m.\u001b[39;49m\u001b[43mset_outpath\u001b[49m\u001b[43m(\u001b[49m\u001b[43mout_path\u001b[49m\u001b[43m)\u001b[49m\n",
      "File \u001b[0;32m~/science/local/git/nustar-gen-utils/nustar_gen/info.py:364\u001b[0m, in \u001b[0;36mObservation.set_outpath\u001b[0;34m(self, value)\u001b[0m\n\u001b[1;32m    360\u001b[0m \u001b[38;5;124;03m'''\u001b[39;00m\n\u001b[1;32m    361\u001b[0m \u001b[38;5;124;03mSet the output path.\u001b[39;00m\n\u001b[1;32m    362\u001b[0m \u001b[38;5;124;03m'''\u001b[39;00m\n\u001b[1;32m    363\u001b[0m \u001b[38;5;28mself\u001b[39m\u001b[38;5;241m.\u001b[39m_out_path\u001b[38;5;241m=\u001b[39mvalue\n\u001b[0;32m--> 364\u001b[0m \u001b[38;5;28;01massert\u001b[39;00m os\u001b[38;5;241m.\u001b[39mpath\u001b[38;5;241m.\u001b[39misdir(\u001b[38;5;28mself\u001b[39m\u001b[38;5;241m.\u001b[39m_out_path), \u001b[38;5;124mf\u001b[39m\u001b[38;5;124m\"\u001b[39m\u001b[38;5;124mOutput path does not exist! \u001b[39m\u001b[38;5;132;01m{\u001b[39;00m\u001b[38;5;28mself\u001b[39m\u001b[38;5;241m.\u001b[39m_out_path\u001b[38;5;132;01m}\u001b[39;00m\u001b[38;5;124m\"\u001b[39m\n\u001b[1;32m    366\u001b[0m \u001b[38;5;28;01mreturn\u001b[39;00m\n",
      "\u001b[0;31mAssertionError\u001b[0m: Output path does not exist! /Users/bwgref/science/local/git/nustar-gen-utils/notebooks/example_data/30001039002/products2"
     ]
    }
   ],
   "source": [
    "obs = info.Observation(path='./example_data/', seqid='30001039002', out_path='./example_data/30001039002/products2/')"
   ]
  },
  {
   "cell_type": "markdown",
   "metadata": {},
   "source": [
    "## Now that we have an Observation() class there are several information methods:\n"
   ]
  },
  {
   "cell_type": "code",
   "execution_count": 21,
   "metadata": {},
   "outputs": [
    {
     "data": {
      "text/plain": [
       "{'A': ['/Users/bwgref/science/local/git/nustar-gen-utils/notebooks/example_data/30001039002/event_cl/nu30001039002A01_cl.evt'],\n",
       " 'B': []}"
      ]
     },
     "execution_count": 21,
     "metadata": {},
     "output_type": "execute_result"
    }
   ],
   "source": [
    "obs.science_files"
   ]
  },
  {
   "cell_type": "code",
   "execution_count": 22,
   "metadata": {},
   "outputs": [
    {
     "name": "stdout",
     "output_type": "stream",
     "text": [
      "Exposure for FPMA, mode 01 is:      39.98 ks\n",
      "\n",
      "\n"
     ]
    }
   ],
   "source": [
    "obs.exposure_report()"
   ]
  },
  {
   "cell_type": "markdown",
   "metadata": {},
   "source": [
    "## We can also retrieve the background report from the SOC, which is placed in the obs.out_path location"
   ]
  },
  {
   "cell_type": "code",
   "execution_count": 24,
   "metadata": {},
   "outputs": [
    {
     "name": "stderr",
     "output_type": "stream",
     "text": [
      "--2022-03-01 13:59:58--  http://www.srl.caltech.edu/NuSTAR_Public/NuSTAROperationSite/SAA_Filtering/nulyses_reports/30001039002/nu30001039002_SAA_Report_A.pdf\n",
      "Resolving www.srl.caltech.edu (www.srl.caltech.edu)... 131.215.193.119\n",
      "Connecting to www.srl.caltech.edu (www.srl.caltech.edu)|131.215.193.119|:80... connected.\n",
      "HTTP request sent, awaiting response... 302 Found\n",
      "Location: http://nustarsoc.caltech.edu/NuSTAR_Public/NuSTAROperationSite/SAA_Filtering/nulyses_reports/30001039002/nu30001039002_SAA_Report_A.pdf [following]\n",
      "--2022-03-01 13:59:58--  http://nustarsoc.caltech.edu/NuSTAR_Public/NuSTAROperationSite/SAA_Filtering/nulyses_reports/30001039002/nu30001039002_SAA_Report_A.pdf\n",
      "Resolving nustarsoc.caltech.edu (nustarsoc.caltech.edu)... 131.215.198.183\n",
      "Connecting to nustarsoc.caltech.edu (nustarsoc.caltech.edu)|131.215.198.183|:80... connected.\n",
      "HTTP request sent, awaiting response... 301 Moved Permanently\n",
      "Location: https://nustarsoc.caltech.edu/NuSTAR_Public/NuSTAROperationSite/SAA_Filtering/nulyses_reports/30001039002/nu30001039002_SAA_Report_A.pdf [following]\n",
      "--2022-03-01 13:59:58--  https://nustarsoc.caltech.edu/NuSTAR_Public/NuSTAROperationSite/SAA_Filtering/nulyses_reports/30001039002/nu30001039002_SAA_Report_A.pdf\n",
      "Connecting to nustarsoc.caltech.edu (nustarsoc.caltech.edu)|131.215.198.183|:443... connected.\n",
      "HTTP request sent, awaiting response... 200 OK\n",
      "Length: 927132 (905K) [application/pdf]\n",
      "Saving to: ‘nu30001039002_SAA_Report_A.pdf’\n",
      "\n",
      "     0K .......... .......... .......... .......... ..........  5% 1.60M 1s\n",
      "    50K .......... .......... .......... .......... .......... 11% 15.8M 0s\n",
      "   100K .......... .......... .......... .......... .......... 16% 3.14M 0s\n",
      "   150K .......... .......... .......... .......... .......... 22% 21.4M 0s\n",
      "   200K .......... .......... .......... .......... .......... 27% 9.22M 0s\n",
      "   250K .......... .......... .......... .......... .......... 33% 10.6M 0s\n",
      "   300K .......... .......... .......... .......... .......... 38% 14.1M 0s\n",
      "   350K .......... .......... .......... .......... .......... 44% 29.8M 0s\n",
      "   400K .......... .......... .......... .......... .......... 49% 11.4M 0s\n",
      "   450K .......... .......... .......... .......... .......... 55% 22.5M 0s\n",
      "   500K .......... .......... .......... .......... .......... 60% 51.3M 0s\n",
      "   550K .......... .......... .......... .......... .......... 66% 15.8M 0s\n",
      "   600K .......... .......... .......... .......... .......... 71% 18.7M 0s\n",
      "   650K .......... .......... .......... .......... .......... 77% 15.7M 0s\n",
      "   700K .......... .......... .......... .......... .......... 82% 15.7M 0s\n",
      "   750K .......... .......... .......... .......... .......... 88% 9.26M 0s\n",
      "   800K .......... .......... .......... .......... .......... 93% 20.0M 0s\n",
      "   850K .......... .......... .......... .......... .......... 99% 46.2M 0s\n",
      "   900K .....                                                 100%  123M=0.09s\n",
      "\n",
      "2022-03-01 13:59:58 (9.36 MB/s) - ‘nu30001039002_SAA_Report_A.pdf’ saved [927132/927132]\n",
      "\n",
      "--2022-03-01 13:59:58--  http://www.srl.caltech.edu/NuSTAR_Public/NuSTAROperationSite/SAA_Filtering/nulyses_reports/30001039002/nu30001039002_SAA_Report_B.pdf\n",
      "Resolving www.srl.caltech.edu (www.srl.caltech.edu)... 131.215.193.119\n",
      "Connecting to www.srl.caltech.edu (www.srl.caltech.edu)|131.215.193.119|:80... connected.\n",
      "HTTP request sent, awaiting response... 302 Found\n",
      "Location: http://nustarsoc.caltech.edu/NuSTAR_Public/NuSTAROperationSite/SAA_Filtering/nulyses_reports/30001039002/nu30001039002_SAA_Report_B.pdf [following]\n",
      "--2022-03-01 13:59:58--  http://nustarsoc.caltech.edu/NuSTAR_Public/NuSTAROperationSite/SAA_Filtering/nulyses_reports/30001039002/nu30001039002_SAA_Report_B.pdf\n",
      "Resolving nustarsoc.caltech.edu (nustarsoc.caltech.edu)... 131.215.198.183\n",
      "Connecting to nustarsoc.caltech.edu (nustarsoc.caltech.edu)|131.215.198.183|:80... connected.\n",
      "HTTP request sent, awaiting response... 301 Moved Permanently\n",
      "Location: https://nustarsoc.caltech.edu/NuSTAR_Public/NuSTAROperationSite/SAA_Filtering/nulyses_reports/30001039002/nu30001039002_SAA_Report_B.pdf [following]\n",
      "--2022-03-01 13:59:58--  https://nustarsoc.caltech.edu/NuSTAR_Public/NuSTAROperationSite/SAA_Filtering/nulyses_reports/30001039002/nu30001039002_SAA_Report_B.pdf\n",
      "Connecting to nustarsoc.caltech.edu (nustarsoc.caltech.edu)|131.215.198.183|:443... connected.\n",
      "HTTP request sent, awaiting response... 200 OK\n",
      "Length: 921997 (900K) [application/pdf]\n",
      "Saving to: ‘nu30001039002_SAA_Report_B.pdf’\n",
      "\n",
      "     0K .......... .......... .......... .......... ..........  5% 1.56M 1s\n",
      "    50K .......... .......... .......... .......... .......... 11% 6.43M 0s\n",
      "   100K .......... .......... .......... .......... .......... 16% 3.56M 0s\n",
      "   150K .......... .......... .......... .......... .......... 22% 19.3M 0s\n",
      "   200K .......... .......... .......... .......... .......... 27% 11.6M 0s\n",
      "   250K .......... .......... .......... .......... .......... 33% 7.87M 0s\n",
      "   300K .......... .......... .......... .......... .......... 38% 7.23M 0s\n",
      "   350K .......... .......... .......... .......... .......... 44% 17.8M 0s\n",
      "   400K .......... .......... .......... .......... .......... 49% 12.0M 0s\n",
      "   450K .......... .......... .......... .......... .......... 55% 20.8M 0s\n",
      "   500K .......... .......... .......... .......... .......... 61% 28.6M 0s\n",
      "   550K .......... .......... .......... .......... .......... 66% 25.9M 0s\n",
      "   600K .......... .......... .......... .......... .......... 72% 16.4M 0s\n",
      "   650K .......... .......... .......... .......... .......... 77% 20.1M 0s\n",
      "   700K .......... .......... .......... .......... .......... 83% 16.7M 0s\n",
      "   750K .......... .......... .......... .......... .......... 88% 13.3M 0s\n",
      "   800K .......... .......... .......... .......... .......... 94% 11.9M 0s\n",
      "   850K .......... .......... .......... .......... .......... 99% 24.2M 0s\n",
      "   900K                                                       100% 7.75K=0.1s\n",
      "\n",
      "2022-03-01 13:59:59 (8.53 MB/s) - ‘nu30001039002_SAA_Report_B.pdf’ saved [921997/921997]\n",
      "\n"
     ]
    }
   ],
   "source": [
    "obs.download_bgd_report()"
   ]
  },
  {
   "cell_type": "markdown",
   "metadata": {},
   "source": [
    "# See the [documentation](https://nustar-gen-utils.readthedocs.io/en/latest/info.html#nustar_gen.info.Observation) for more details"
   ]
  }
 ],
 "metadata": {
  "kernelspec": {
   "display_name": "Python 3 (ipykernel)",
   "language": "python",
   "name": "python3"
  },
  "language_info": {
   "codemirror_mode": {
    "name": "ipython",
    "version": 3
   },
   "file_extension": ".py",
   "mimetype": "text/x-python",
   "name": "python",
   "nbconvert_exporter": "python",
   "pygments_lexer": "ipython3",
   "version": "3.9.7"
  }
 },
 "nbformat": 4,
 "nbformat_minor": 4
}
