{
 "cells": [
  {
   "cell_type": "markdown",
   "metadata": {},
   "source": [
    "# This notebook shows how to manipulate the times in NuSTAR event files from various time codes.\n",
    "\n",
    "The \"TIME\" column in the NuSTAR event files is the TT seconds since '2010-01-01:00:00:00' UTC. Note that TT is offset from UTC by the number of leap seconds. This roughly 68 seconds of offset, with UTC lagging behind TT.\n",
    "\n",
    "\n",
    "## NOTE:\n",
    "\n",
    "For any astrophysical timing analysis you *must* use barycorr to barycenter the event fimes before you do anything else.\n",
    "\n",
    "Barycorr returns events in barycentric dynamic time (a.k.a. the \"TBD\" time system), which is effectively the TT time scale but with the relative time shifts between NuSTAR and the barycenter taken out.\n",
    "\n",
    "Fortunately, Astropy Time constructs know about the various time scales, so we can convert times at will."
   ]
  },
  {
   "cell_type": "markdown",
   "metadata": {},
   "source": [
    "## Converting MET (in either TDB from barycorr or seconds since the UTC epoch) to a Time object:\n",
    "\n"
   ]
  },
  {
   "cell_type": "code",
   "execution_count": 1,
   "metadata": {},
   "outputs": [],
   "source": [
    "from nustar_gen import info\n",
    "from astropy.time import Time\n",
    "ns = info.NuSTAR()"
   ]
  },
  {
   "cell_type": "code",
   "execution_count": 2,
   "metadata": {},
   "outputs": [
    {
     "name": "stdout",
     "output_type": "stream",
     "text": [
      "315578085.0\n"
     ]
    }
   ],
   "source": [
    "# Convert a random date to met seconds\n",
    "time = Time('2020-01-01T12:34:42', format = 'fits', scale = 'utc')\n",
    "met = ns.time_to_met(time)\n",
    "print(met)"
   ]
  },
  {
   "cell_type": "code",
   "execution_count": 3,
   "metadata": {},
   "outputs": [
    {
     "name": "stdout",
     "output_type": "stream",
     "text": [
      "2020-01-01T12:34:42.000\n"
     ]
    }
   ],
   "source": [
    "# Confirm we get the correct conversion back:\n",
    "time = ns.met_to_time(met)\n",
    "print(time.utc)"
   ]
  },
  {
   "cell_type": "code",
   "execution_count": 4,
   "metadata": {},
   "outputs": [
    {
     "data": {
      "text/plain": [
       "<Time object: scale='utc' format='fits' value=['2020-01-01T12:34:42.000' '2020-01-01T12:34:43.000'\n",
       " '2020-01-01T12:34:44.000' '2020-01-01T12:34:45.000'\n",
       " '2020-01-01T12:34:46.000' '2020-01-01T12:34:47.000'\n",
       " '2020-01-01T12:34:48.000' '2020-01-01T12:34:49.000'\n",
       " '2020-01-01T12:34:50.000' '2020-01-01T12:34:51.000'\n",
       " '2020-01-01T12:34:52.000' '2020-01-01T12:34:53.000'\n",
       " '2020-01-01T12:34:54.000' '2020-01-01T12:34:55.000'\n",
       " '2020-01-01T12:34:56.000' '2020-01-01T12:34:57.000'\n",
       " '2020-01-01T12:34:58.000' '2020-01-01T12:34:59.000'\n",
       " '2020-01-01T12:35:00.000' '2020-01-01T12:35:01.000'\n",
       " '2020-01-01T12:35:02.000' '2020-01-01T12:35:03.000'\n",
       " '2020-01-01T12:35:04.000' '2020-01-01T12:35:05.000'\n",
       " '2020-01-01T12:35:06.000' '2020-01-01T12:35:07.000'\n",
       " '2020-01-01T12:35:08.000' '2020-01-01T12:35:09.000'\n",
       " '2020-01-01T12:35:10.000' '2020-01-01T12:35:11.000'\n",
       " '2020-01-01T12:35:12.000' '2020-01-01T12:35:13.000'\n",
       " '2020-01-01T12:35:14.000' '2020-01-01T12:35:15.000'\n",
       " '2020-01-01T12:35:16.000' '2020-01-01T12:35:17.000'\n",
       " '2020-01-01T12:35:18.000' '2020-01-01T12:35:19.000'\n",
       " '2020-01-01T12:35:20.000' '2020-01-01T12:35:21.000'\n",
       " '2020-01-01T12:35:22.000' '2020-01-01T12:35:23.000'\n",
       " '2020-01-01T12:35:24.000' '2020-01-01T12:35:25.000'\n",
       " '2020-01-01T12:35:26.000' '2020-01-01T12:35:27.000'\n",
       " '2020-01-01T12:35:28.000' '2020-01-01T12:35:29.000'\n",
       " '2020-01-01T12:35:30.000' '2020-01-01T12:35:31.000'\n",
       " '2020-01-01T12:35:32.000' '2020-01-01T12:35:33.000'\n",
       " '2020-01-01T12:35:34.000' '2020-01-01T12:35:35.000'\n",
       " '2020-01-01T12:35:36.000' '2020-01-01T12:35:37.000'\n",
       " '2020-01-01T12:35:38.000' '2020-01-01T12:35:39.000'\n",
       " '2020-01-01T12:35:40.000' '2020-01-01T12:35:41.000'\n",
       " '2020-01-01T12:35:42.000' '2020-01-01T12:35:43.000'\n",
       " '2020-01-01T12:35:44.000' '2020-01-01T12:35:45.000'\n",
       " '2020-01-01T12:35:46.000' '2020-01-01T12:35:47.000'\n",
       " '2020-01-01T12:35:48.000' '2020-01-01T12:35:49.000'\n",
       " '2020-01-01T12:35:50.000' '2020-01-01T12:35:51.000'\n",
       " '2020-01-01T12:35:52.000' '2020-01-01T12:35:53.000'\n",
       " '2020-01-01T12:35:54.000' '2020-01-01T12:35:55.000'\n",
       " '2020-01-01T12:35:56.000' '2020-01-01T12:35:57.000'\n",
       " '2020-01-01T12:35:58.000' '2020-01-01T12:35:59.000'\n",
       " '2020-01-01T12:36:00.000' '2020-01-01T12:36:01.000'\n",
       " '2020-01-01T12:36:02.000' '2020-01-01T12:36:03.000'\n",
       " '2020-01-01T12:36:04.000' '2020-01-01T12:36:05.000'\n",
       " '2020-01-01T12:36:06.000' '2020-01-01T12:36:07.000'\n",
       " '2020-01-01T12:36:08.000' '2020-01-01T12:36:09.000'\n",
       " '2020-01-01T12:36:10.000' '2020-01-01T12:36:11.000'\n",
       " '2020-01-01T12:36:12.000' '2020-01-01T12:36:13.000'\n",
       " '2020-01-01T12:36:14.000' '2020-01-01T12:36:15.000'\n",
       " '2020-01-01T12:36:16.000' '2020-01-01T12:36:17.000'\n",
       " '2020-01-01T12:36:18.000' '2020-01-01T12:36:19.000'\n",
       " '2020-01-01T12:36:20.000' '2020-01-01T12:36:21.000']>"
      ]
     },
     "execution_count": 4,
     "metadata": {},
     "output_type": "execute_result"
    }
   ],
   "source": [
    "# Also works on lists of times:\n",
    "import numpy as np\n",
    "mets = met + np.arange(100)\n",
    "times = ns.met_to_time(mets)\n",
    "times"
   ]
  },
  {
   "cell_type": "code",
   "execution_count": null,
   "metadata": {},
   "outputs": [],
   "source": []
  }
 ],
 "metadata": {
  "kernelspec": {
   "display_name": "Python 3",
   "language": "python",
   "name": "python3"
  },
  "language_info": {
   "codemirror_mode": {
    "name": "ipython",
    "version": 3
   },
   "file_extension": ".py",
   "mimetype": "text/x-python",
   "name": "python",
   "nbconvert_exporter": "python",
   "pygments_lexer": "ipython3",
   "version": "3.7.4"
  }
 },
 "nbformat": 4,
 "nbformat_minor": 4
}
