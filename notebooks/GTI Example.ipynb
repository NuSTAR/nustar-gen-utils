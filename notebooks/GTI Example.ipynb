{
 "cells": [
  {
   "cell_type": "code",
   "execution_count": 38,
   "metadata": {},
   "outputs": [
    {
     "data": {
      "text/plain": [
       "<module 'nustar_gen.info' from '/Users/bwgref/science/local/git/nustar-gen-utils/nustar_gen/info.py'>"
      ]
     },
     "execution_count": 38,
     "metadata": {},
     "output_type": "execute_result"
    }
   ],
   "source": [
    "from importlib import reload\n",
    "import nustar_gen.utils as utils\n",
    "import nustar_gen.info as info\n",
    "import numpy as np\n",
    "reload(utils)\n",
    "reload(info)"
   ]
  },
  {
   "cell_type": "code",
   "execution_count": 34,
   "metadata": {},
   "outputs": [],
   "source": [
    "ns = info.NuSTAR()"
   ]
  },
  {
   "cell_type": "code",
   "execution_count": 55,
   "metadata": {},
   "outputs": [
    {
     "name": "stdout",
     "output_type": "stream",
     "text": [
      "2016-05-03 19:33:18.000\n"
     ]
    }
   ],
   "source": [
    "# How to convert MET to an astropy.Time object:\n",
    "time_met = 2e8\n",
    "this_time = ns.met_to_time(time_met)\n",
    "# this_time is now an Astropy.Time object\n",
    "print(this_time.iso)"
   ]
  },
  {
   "cell_type": "code",
   "execution_count": 56,
   "metadata": {},
   "outputs": [
    {
     "name": "stdout",
     "output_type": "stream",
     "text": [
      "200000000.0\n"
     ]
    }
   ],
   "source": [
    "# And now back to MET:\n",
    "this_met = ns.time_to_met(this_time)\n",
    "print(this_met)"
   ]
  },
  {
   "cell_type": "code",
   "execution_count": 61,
   "metadata": {},
   "outputs": [
    {
     "name": "stdout",
     "output_type": "stream",
     "text": [
      "200000005.0\n",
      "2016-05-03 19:33:23.000\n",
      "200000005.0\n"
     ]
    }
   ],
   "source": [
    "# Also works as arrays:\n",
    "test_met = 2e8 + np.arange(100)\n",
    "print(test_met[5])\n",
    "this_time = ns.met_to_time(test_met)\n",
    "print(this_time[5].iso)\n",
    "this_met = ns.time_to_met(this_time)\n",
    "print(this_met[5])"
   ]
  },
  {
   "cell_type": "code",
   "execution_count": 52,
   "metadata": {},
   "outputs": [],
   "source": [
    "# Make your own GTIs (better example to come later)\n",
    "\n",
    "# GTIs must be in NuSTAR MET seconds\n",
    "gtis = {'START':1000.,\n",
    "        'STOP':1200.}\n",
    "\n",
    "# Make yourself an array of dicts with the GTIs that you want:\n",
    "gtis = [gtis, gtis]\n",
    "\n",
    "utils.make_usr_gti(gtis, overwrite=True, outfile = 'usrgti.fits')"
   ]
  },
  {
   "cell_type": "code",
   "execution_count": 37,
   "metadata": {},
   "outputs": [],
   "source": []
  }
 ],
 "metadata": {
  "kernelspec": {
   "display_name": "Python 3",
   "language": "python",
   "name": "python3"
  },
  "language_info": {
   "codemirror_mode": {
    "name": "ipython",
    "version": 3
   },
   "file_extension": ".py",
   "mimetype": "text/x-python",
   "name": "python",
   "nbconvert_exporter": "python",
   "pygments_lexer": "ipython3",
   "version": "3.7.4"
  }
 },
 "nbformat": 4,
 "nbformat_minor": 4
}
