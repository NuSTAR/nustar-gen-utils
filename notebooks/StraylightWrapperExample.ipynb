{
 "cells": [
  {
   "cell_type": "code",
   "execution_count": null,
   "metadata": {},
   "outputs": [],
   "source": [
    "from nustar_gen import wrappers, info\n",
    "import os"
   ]
  },
  {
   "cell_type": "markdown",
   "metadata": {},
   "source": [
    "# NOTE!!!!\n",
    "#### The code below is an *example* only for how to process straylight data for analysis.\n",
    "\n",
    "### IT WILL NOT WORK WITH THE EXAMPLE DATA IN THIS REPOSITORY\n",
    "\n",
    "#### Please use it as a template only for your own analysis.\n"
   ]
  },
  {
   "cell_type": "markdown",
   "metadata": {},
   "source": [
    "### How to make images in DET1 coordinates"
   ]
  },
  {
   "cell_type": "code",
   "execution_count": null,
   "metadata": {},
   "outputs": [],
   "source": [
    "# top == some path to your top level data directory. \n",
    "\n",
    "seqid='10202005004'\n",
    "obs = info.Observation(seqid=seqid)\n",
    "obs = info.Observation(path=f'{top}/data/', seqid=seqid)\n",
    "\n",
    "print(obs._evtfiles['B'][0])\n",
    "# Spawns an Xselect instance behind the scenes. Output in the same place as the event data\n",
    "det1B_file = wrappers.make_det1_image(obs._evtfiles['B'][0],elow=3, ehigh=20)\n",
    "print(det1B_file)\n"
   ]
  },
  {
   "cell_type": "markdown",
   "metadata": {},
   "source": [
    "### How to make lightcurves from DET1 data\n",
    "1. Go to the DET1 image produced above and make a region that covers the straylight that you want to analyze. Note that this can be a large circle with lots of area outside of the FoV. i.e.:\n",
    "\n",
    "<img src=\"./example_data/det1_image_example.png\" alt=\"Drawing\" style=\"width: 800px;\"/>\n",
    "\n",
    "2. Provide the full path to the region file. **Make sure to save the file using IMAGE coordinates.** See the example image above.\n",
    "\n",
    "3. Extract the events using Xselect:"
   ]
  },
  {
   "cell_type": "code",
   "execution_count": null,
   "metadata": {},
   "outputs": [],
   "source": [
    "# Go make the region file using ds9. Make sure to to use \n",
    "reg_file = obs.path+'/'+obs.seqid+'/event_cl/srcB.reg'\n",
    "filt_file = wrappers.extract_det1_events(obs._evtfiles['B'][0], regfile=reg_file)\n",
    "\n",
    "# filt_file is now the full path to the extracted event file"
   ]
  },
  {
   "cell_type": "markdown",
   "metadata": {},
   "source": [
    "4. Make a lightcurve script that spawns nuproducts. Note that we have turned off all of the nuproducts flags that cause it to apply the PSF, exposure, and vignetting corrections. This does do the livetime corrections. For straylight sources the motion of the telescope pointing/mast shouldn't affect the response of the instrument, and we'll assume that we'll take care of computing the effective area when doing spectroscopy. **Note:** this wrapper has a \"barycorr\" option, but it is currently disabled. If you're doing pulsar timing with stray light then you'll probably want to construct the nuproducts call yourself."
   ]
  },
  {
   "cell_type": "code",
   "execution_count": null,
   "metadata": {},
   "outputs": [],
   "source": [
    "from astropy import units as u\n",
    "time_bin = 100*u.s\n",
    "lc_script = wrappers.make_det1_lightcurve(filt_file, mod='B', elow=3, ehigh=10, time_bin=time_bin, outpath='./10202005004/products/')\n",
    "# lc_script is now the path to the nuproducts script. Right now appears in the same location as the notebook."
   ]
  },
  {
   "cell_type": "markdown",
   "metadata": {},
   "source": [
    "5. Run the script right from the notebook if you'd like. We can use these notebook magic commands to set the environment variables so that nuproducts runs smoothly behind the scenes:"
   ]
  },
  {
   "cell_type": "code",
   "execution_count": null,
   "metadata": {},
   "outputs": [],
   "source": [
    "import os\n",
    "\n",
    "%env HEADASNOQUERY=\n",
    "%env HEADASPROMPT=/dev/null\n",
    "os.system('./'+lc_script)\n",
    "\n",
    "# The lightcurve file and its associated .gif render will now be in the outpath location to be used for downstream analysis."
   ]
  }
 ],
 "metadata": {
  "kernelspec": {
   "display_name": "Python 3",
   "language": "python",
   "name": "python3"
  },
  "language_info": {
   "codemirror_mode": {
    "name": "ipython",
    "version": 3
   },
   "file_extension": ".py",
   "mimetype": "text/x-python",
   "name": "python",
   "nbconvert_exporter": "python",
   "pygments_lexer": "ipython3",
   "version": "3.7.4"
  }
 },
 "nbformat": 4,
 "nbformat_minor": 4
}
