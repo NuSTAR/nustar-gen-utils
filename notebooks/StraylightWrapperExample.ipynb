{
 "cells": [
  {
   "cell_type": "code",
   "execution_count": 1,
   "metadata": {},
   "outputs": [],
   "source": [
    "from nustar_gen import wrappers, info, utils\n",
    "import os"
   ]
  },
  {
   "cell_type": "markdown",
   "metadata": {},
   "source": [
    "# NOTE!!!!\n",
    "#### The code below is an *example* only for how to process straylight data for analysis.\n",
    "\n",
    "### IT WILL NOT WORK WITH THE EXAMPLE DATA IN THIS REPOSITORY\n",
    "\n",
    "#### Please use it as a template only for your own analysis.\n"
   ]
  },
  {
   "cell_type": "markdown",
   "metadata": {},
   "source": [
    "### How to make images in DET1 coordinates"
   ]
  },
  {
   "cell_type": "code",
   "execution_count": 2,
   "metadata": {},
   "outputs": [],
   "source": [
    "# top == some path to your top level data directory. \n",
    "here = os.getcwd()+'/'\n",
    "obs = info.Observation(seqid='10202005004', path=here, out_path='./10202005004/products/')\n",
    "\n",
    "# Below spawns an Xselect instance behind the scenes.\n",
    "# This produces an image in DET1 coordinates, which looks like the image below when you open it in ds9\n",
    "\n",
    "evfA = obs.evtfiles['A'][0]\n",
    "det1A_file = wrappers.make_det1_image(evfA,elow=3, ehigh=20)"
   ]
  },
  {
   "cell_type": "markdown",
   "metadata": {},
   "source": [
    "### How to make lightcurves from DET1 data\n",
    "1. Go to the DET1 image produced above and make a region that covers the straylight that you want to analyze. Note that this can be a large circle with lots of area outside of the FoV. i.e.:\n",
    "\n",
    "<img src=\"./example_data/det1_image_example.png\" alt=\"Drawing\" style=\"width: 800px;\"/>\n",
    "\n",
    "2. Provide the full path to the region file. **Make sure to save the file using IMAGE coordinates.** See the example image above.\n",
    "\n",
    "3. Extract the events using Xselect:"
   ]
  },
  {
   "cell_type": "code",
   "execution_count": 4,
   "metadata": {},
   "outputs": [
    {
     "name": "stdout",
     "output_type": "stream",
     "text": [
      "/Users/bwgref/science/gs1826_stray/10202005004/event_cl/nu10202005004B01_cl_srcB.evt\n"
     ]
    }
   ],
   "source": [
    "# Go make the region file using ds9.\n",
    "# Below spawns another XSELECT run behind the scenes to apply the region filtering in DET1 coordinates\n",
    "\n",
    "reg_file = obs.path+'/'+obs.seqid+'/event_cl/srcB.reg'\n",
    "filt_file = wrappers.extract_det1_events(obs.evtfiles['B'][0], regfile=reg_file)\n",
    "print(filt_file)\n",
    "# filt_file is now the full path to the extracted event file. This is located in obs.evdir by default."
   ]
  },
  {
   "cell_type": "markdown",
   "metadata": {},
   "source": [
    "4. Make a script to use nuproducts to produce a lightcurve. Note that we have turned off all of the nuproducts flags that cause it to apply the PSF, exposure, and vignetting corrections. This does do the livetime corrections. For straylight sources the motion of the telescope pointing/mast shouldn't affect the response of the instrument, and we'll assume that we'll take care of computing the effective area when doing spectroscopy. **Note:** this wrapper has a \"barycorr\" option, but it is currently disabled. If you're doing pulsar timing with stray light then you'll probably want to construct the nuproducts call yourself."
   ]
  },
  {
   "cell_type": "code",
   "execution_count": 5,
   "metadata": {},
   "outputs": [
    {
     "name": "stdout",
     "output_type": "stream",
     "text": [
      "/Users/bwgref/science/gs1826_stray/10202005004/products/rundet1lc_nu10202005004B01_full_FoV_3to10_100s.sh\n"
     ]
    }
   ],
   "source": [
    "from astropy import units as u\n",
    "time_bin = 100*u.s\n",
    "lc_script = wrappers.make_det1_lightcurve(filt_file, mod='B', elow=3, ehigh=10, time_bin=time_bin, obs=obs)\n",
    "# lc_script is now the path to the nuproducts script to produce a lightcurve, which is stored in obs.out_path.\n",
    "#\n",
    "# Go run this in the shell\n",
    "print(lc_script)"
   ]
  },
  {
   "cell_type": "markdown",
   "metadata": {},
   "source": [
    "5. Make a script to use nuproducts to produce a spectrum. Right now, this does not do anything with the background and does not produce an ARF on its own (see below). It will produce an RMF that will automatically be loaded when you load the data into Xspec."
   ]
  },
  {
   "cell_type": "code",
   "execution_count": 6,
   "metadata": {},
   "outputs": [
    {
     "name": "stdout",
     "output_type": "stream",
     "text": [
      "/Users/bwgref/science/gs1826_stray/10202005004/products/rundet1spec_nu10202005004B01_cl_srcB.sh\n"
     ]
    }
   ],
   "source": [
    "det1spec_script = wrappers.make_det1_spectra(filt_file, 'B', obs=obs)\n",
    "# lc_script is now the path to the nuproducts script to produce a spectrum, which is stored in obs.out_path.\n",
    "#\n",
    "# Go run ths in the shell\n",
    "print(det1spec_script)"
   ]
  },
  {
   "cell_type": "markdown",
   "metadata": {},
   "source": [
    "6. Make and ARF. This is done \"by hand\" for now. To do this you also need to make a DET1 exposure map first. The detector area that you're using is currently bookkept into the ARF itself (but maybe should move to the AREASCAL keyword in the PHA file). This script uses the number of observed counts on each detectors to load in the DETABS values from the CALDB and multiplies this onto a base ARF that describes the attenuationin the Be window above the detectors. The ARF needs to be loaded by hand when using Xspec, or you can go use the fmodhead FTOOL to adjust the ANCRFILE keyword"
   ]
  },
  {
   "cell_type": "code",
   "execution_count": 7,
   "metadata": {},
   "outputs": [
    {
     "name": "stdout",
     "output_type": "stream",
     "text": [
      "/Users/bwgref/science/gs1826_stray/10202005004/products/runexpo_10202005004B.sh\n"
     ]
    }
   ],
   "source": [
    "expo_script = wrappers.make_exposure_map(obs, 'B', det_expo=True)\n",
    "\n",
    "# expo_script is now the path to the nuexpomap script, which is stored in obs.out_path.\n",
    "#\n",
    "# If det_expo=False then this produces a Sky exposure map rather than the DET1 exposure map.\n",
    "#\n",
    "# Go run this in the shell\n",
    "print(expo_script)"
   ]
  },
  {
   "cell_type": "code",
   "execution_count": 18,
   "metadata": {},
   "outputs": [
    {
     "name": "stdout",
     "output_type": "stream",
     "text": [
      "/Users/bwgref/science/local/CALDB\n",
      "Straylight area:     7.91 cm2\n"
     ]
    }
   ],
   "source": [
    "# You need to specify the location of the exposure map file produce by the script above:\n",
    "mod = 'B'\n",
    "det1expo = os.path.join(obs.out_path, f'nu{obs.seqid}{mod}_det1_expo.fits')\n",
    "filt_ev = os.path.join(obs.evdir, f'nu{obs.seqid}{mod}01_cl_src{mod}.evt')\n",
    "reg_file = os.path.join(obs.evdir, f'src{mod}.reg')\n",
    "utils.make_straylight_arf(det1expo, reg_file, filt_ev, mod, obs=obs)\n",
    "\n",
    "# This produces an ARF in obs.out_path\n",
    "\n",
    "# You also need to know what the illuminated area is. Do that here:\n",
    "area = utils.straylight_area(det1expo, reg_file, filt_ev)\n",
    "print(f'Straylight area: {area:8.2f}')\n",
    "\n",
    "\n",
    "\n",
    "# We're now ready for Xspec analysis, but you will need to load the ARF by hand after loading in the data."
   ]
  },
  {
   "cell_type": "code",
   "execution_count": 28,
   "metadata": {},
   "outputs": [
    {
     "name": "stdout",
     "output_type": "stream",
     "text": [
      "Initial BACKSCAL value is meaninglss: 0.280872\n",
      "Confirm updated BACKSCAL value: 7.914544814048287\n"
     ]
    },
    {
     "name": "stderr",
     "output_type": "stream",
     "text": [
      "WARNING: VerifyWarning: Card is too long, comment will be truncated. [astropy.io.fits.card]\n"
     ]
    }
   ],
   "source": [
    "# Finally, we want to update a few header keywords to make things work.\n",
    "\n",
    "from astropy.io.fits import setval, getval\n",
    "\n",
    "# Set your PHA file here:\n",
    "pha_file = os.path.join(obs.out_path, 'nu10202005004B01_cl_srcB_sr.pha')\n",
    "\n",
    "# Target the SPECTRUM extension (which is #1) \n",
    "ext=1\n",
    "backscal = getval(pha_file, 'BACKSCAL', ext=ext)\n",
    "print(f'Initial BACKSCAL value is meaninglss: {backscal}')\n",
    "\n",
    "# Update it to be your straylight area value:\n",
    "setval(pha_file, 'BACKSCAL', value=area.value, ext=ext)\n",
    "\n",
    "backscal = getval(pha_file, 'BACKSCAL', ext=ext)\n",
    "print(f'Confirm updated BACKSCAL value: {backscal}')\n",
    "\n",
    "# Now also add on the ANCRFILE to point at the ARF:\n",
    "# **NOTE** Figure out whether or not you want to have this be a realtive path or the *absolute* path to\n",
    "# the ARF file\n",
    "\n",
    "arf_file = 'nu10202005004B01_cl_srcB.arf'\n",
    "# Update it to be your straylight area:\n",
    "setval(pha_file, 'ANCRFILE', value=arf_file, ext=ext)\n",
    "\n",
    "# You should be able to load things into Xspec now."
   ]
  },
  {
   "cell_type": "code",
   "execution_count": null,
   "metadata": {},
   "outputs": [],
   "source": [
    "# Still to be shown: How to do background subtraction!!"
   ]
  }
 ],
 "metadata": {
  "kernelspec": {
   "display_name": "Python 3 (ipykernel)",
   "language": "python",
   "name": "python3"
  },
  "language_info": {
   "codemirror_mode": {
    "name": "ipython",
    "version": 3
   },
   "file_extension": ".py",
   "mimetype": "text/x-python",
   "name": "python",
   "nbconvert_exporter": "python",
   "pygments_lexer": "ipython3",
   "version": "3.9.7"
  }
 },
 "nbformat": 4,
 "nbformat_minor": 4
}
