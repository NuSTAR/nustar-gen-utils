{
 "cells": [
  {
   "cell_type": "code",
   "execution_count": null,
   "metadata": {},
   "outputs": [],
   "source": [
    "from nustar_gen import wrappers, info, utils\n",
    "import os"
   ]
  },
  {
   "cell_type": "markdown",
   "metadata": {},
   "source": [
    "# NOTE!!!!\n",
    "#### The code below is an *example* only for how to process straylight data for analysis.\n",
    "\n",
    "### IT WILL NOT WORK WITH THE EXAMPLE DATA IN THIS REPOSITORY\n",
    "\n",
    "#### Please use it as a template only for your own analysis.\n"
   ]
  },
  {
   "cell_type": "markdown",
   "metadata": {},
   "source": [
    "### How to make images in DET1 coordinates"
   ]
  },
  {
   "cell_type": "code",
   "execution_count": null,
   "metadata": {},
   "outputs": [],
   "source": [
    "# top == some path to your top level data directory. \n",
    "here = os.getcwd()+'/'\n",
    "\n",
    "obs = info.Observation(seqid='10202005004', path=here, out_path='./10202005004/products/')\n",
    "\n",
    "# Below spawns an Xselect instance behind the scenes.\n",
    "# This produces an image in DET1 coordinates, which looks like the image below when you open it in ds9\n",
    "\n",
    "evfA = obs.evtfiles['A'][0]\n",
    "det1A_file = wrappers.make_det1_image(evfA,elow=3, ehigh=20)"
   ]
  },
  {
   "cell_type": "markdown",
   "metadata": {},
   "source": [
    "### How to make lightcurves from DET1 data\n",
    "1. Go to the DET1 image produced above and make a region that covers the straylight that you want to analyze. Note that this can be a large circle with lots of area outside of the FoV. i.e.:\n",
    "\n",
    "<img src=\"./example_data/det1_image_example.png\" alt=\"Drawing\" style=\"width: 800px;\"/>\n",
    "\n",
    "2. Provide the full path to the region file. **Make sure to save the file using IMAGE coordinates.** See the example image above.\n",
    "\n",
    "3. Extract the events using Xselect:"
   ]
  },
  {
   "cell_type": "code",
   "execution_count": null,
   "metadata": {},
   "outputs": [],
   "source": [
    "# Go make the region file using ds9.\n",
    "# Below spawns another XSELECT run behind the scenes to apply the region filtering in DET1 coordinates\n",
    "\n",
    "reg_file = obs.path+'/'+obs.seqid+'/event_cl/srcB.reg'\n",
    "filt_file = wrappers.extract_det1_events(obs.evtfiles['B'][0], regfile=reg_file)\n",
    "\n",
    "# filt_file is now the full path to the extracted event file. This is located in obs.evdir by default."
   ]
  },
  {
   "cell_type": "markdown",
   "metadata": {},
   "source": [
    "4. Make a script to use nuproducts to produce a lightcurve. Note that we have turned off all of the nuproducts flags that cause it to apply the PSF, exposure, and vignetting corrections. This does do the livetime corrections. For straylight sources the motion of the telescope pointing/mast shouldn't affect the response of the instrument, and we'll assume that we'll take care of computing the effective area when doing spectroscopy. **Note:** this wrapper has a \"barycorr\" option, but it is currently disabled. If you're doing pulsar timing with stray light then you'll probably want to construct the nuproducts call yourself."
   ]
  },
  {
   "cell_type": "code",
   "execution_count": null,
   "metadata": {},
   "outputs": [],
   "source": [
    "from astropy import units as u\n",
    "time_bin = 100*u.s\n",
    "lc_script = wrappers.make_det1_lightcurve(filt_file, mod='B', elow=3, ehigh=10, time_bin=time_bin, obs=obs)\n",
    "# lc_script is now the path to the nuproducts script to produce a lightcurve, which is stored in obs.out_path.\n",
    "#\n",
    "# Go run ths in the shell"
   ]
  },
  {
   "cell_type": "markdown",
   "metadata": {},
   "source": [
    "5. Make a script to use nuproducts to produce a spectrum. Right now, this does not do anything with the background and does not produce an ARF on its own (see below). It will produce an RMF that will automatically be loaded when you load the data into Xspec."
   ]
  },
  {
   "cell_type": "code",
   "execution_count": null,
   "metadata": {},
   "outputs": [],
   "source": [
    "det1spec_script = wrappers.make_det1_spectra(filt_file, 'B', obs=obs)\n",
    "# lc_script is now the path to the nuproducts script to produce a spectrum, which is stored in obs.out_path.\n",
    "#\n",
    "# Go run ths in the shell"
   ]
  },
  {
   "cell_type": "markdown",
   "metadata": {},
   "source": [
    "6. Make and ARF. This is done \"by hand\" for now. To do this you also need to make a DET1 exposure map first. The detector area that you're using is currently bookkept into the ARF itself (but maybe should move to the AREASCAL keyword in the PHA file). This script uses the number of observed counts on each detectors to load in the DETABS values from the CALDB and multiplies this onto a base ARF that describes the attenuationin the Be window above the detectors. The ARF needs to be loaded by hand when using Xspec, or you can go use the fmodhead FTOOL to adjust the ANCRFILE keyword"
   ]
  },
  {
   "cell_type": "code",
   "execution_count": null,
   "metadata": {},
   "outputs": [],
   "source": [
    "expo_script = wrappers.make_exposure_map(obs, mod, det_expo=True)\n",
    "\n",
    "# expo_script is now the path to the nuexpomap script, which is stored in obs.out_path.\n",
    "#\n",
    "# If det_expo=False then this produces a Sky exposure map rather than the DET1 exposure map.\n",
    "#\n",
    "# Go run this in the shell"
   ]
  },
  {
   "cell_type": "code",
   "execution_count": null,
   "metadata": {},
   "outputs": [],
   "source": [
    "# You need to specify the location of the exposure map file produce by the script above:\n",
    "\n",
    "det1expo = f'{obs.out_path}/nu{obs.seqid}{mod}_det1_expo.fits'\n",
    "filt_ev = obs.evdir+f'/nu{obs.seqid}{mod}01_cl_src{mod}.evt'    \n",
    "reg_file = obs.evdir+f'/src{mod}.reg'    \n",
    "utils.make_straylight_arf(det1expo, reg_file, filt_ev, mod, obs=obs)\n",
    "\n",
    "# This produces an ARF in obs.out_path\n",
    "\n",
    "# We're now ready for Xspec analysis, but you will need to load the ARF by hand after loading in the data."
   ]
  },
  {
   "cell_type": "code",
   "execution_count": null,
   "metadata": {},
   "outputs": [],
   "source": [
    "# For convenience, in the shell you can go to obs.out_path and do something like the following using the fthedit FTOOL in HEASoft:\n",
    "\n",
    "fthedit nu10202005004B01_cl_srcB_sr.pha[1] keyword=ANCRFILE operation=add value=nu10202005004B01_cl_srcB.arf \n",
    "\n",
    "# ... note that the [1] is required to hit the correct FITS extension in the PHA file"
   ]
  }
 ],
 "metadata": {
  "kernelspec": {
   "display_name": "Python 3",
   "language": "python",
   "name": "python3"
  },
  "language_info": {
   "codemirror_mode": {
    "name": "ipython",
    "version": 3
   },
   "file_extension": ".py",
   "mimetype": "text/x-python",
   "name": "python",
   "nbconvert_exporter": "python",
   "pygments_lexer": "ipython3",
   "version": "3.7.4"
  }
 },
 "nbformat": 4,
 "nbformat_minor": 4
}
