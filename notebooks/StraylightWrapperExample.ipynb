{
 "cells": [
  {
   "cell_type": "code",
   "execution_count": null,
   "metadata": {},
   "outputs": [],
   "source": [
    "from nustar_gen import wrappers, info\n",
    "import os"
   ]
  },
  {
   "cell_type": "markdown",
   "metadata": {},
   "source": [
    "# NOTE!!!!\n",
    "#### The code below is an *example* only for how to process straylight data for analysis.\n",
    "\n",
    "### IT WILL NOT WORK WITH THE EXAMPLE DATA IN THIS REPOSITORY\n",
    "\n",
    "#### Please use it as a template only for your own analysis.\n"
   ]
  },
  {
   "cell_type": "markdown",
   "metadata": {},
   "source": [
    "### How to make images in DET1 coordinates"
   ]
  },
  {
   "cell_type": "code",
   "execution_count": null,
   "metadata": {},
   "outputs": [],
   "source": [
    "# top == some path to your top level data directory. \n",
    "\n",
    "seqid='10202005004'\n",
    "obs = info.Observation(seqid=seqid)\n",
    "obs = info.Observation(path=f'{top}/data/', seqid=seqid)\n",
    "\n",
    "# Point to the location where you want to store your results\n",
    "obs.set_outpath=here+'/10402004004/products'\n",
    "\n",
    "print(obs._evtfiles['B'][0])\n",
    "# Spawns an Xselect instance behind the scenes. Output in the same place as the event data\n",
    "det1B_file = wrappers.make_det1_image(obs._evtfiles['B'][0],elow=3, ehigh=20)\n",
    "print(det1B_file)\n"
   ]
  },
  {
   "cell_type": "markdown",
   "metadata": {},
   "source": [
    "### How to make lightcurves from DET1 data\n",
    "1. Go to the DET1 image produced above and make a region that covers the straylight that you want to analyze. Note that this can be a large circle with lots of area outside of the FoV. i.e.:\n",
    "\n",
    "<img src=\"./example_data/det1_image_example.png\" alt=\"Drawing\" style=\"width: 800px;\"/>\n",
    "\n",
    "2. Provide the full path to the region file. **Make sure to save the file using IMAGE coordinates.** See the example image above.\n",
    "\n",
    "3. Extract the events using Xselect:"
   ]
  },
  {
   "cell_type": "code",
   "execution_count": null,
   "metadata": {},
   "outputs": [],
   "source": [
    "# Go make the region file using ds9. This spawns an XSELECT run behind the scenes, so\n",
    "# you'll need to wait for this complete (usually pretty quick)\n",
    "reg_file = obs.path+'/'+obs.seqid+'/event_cl/srcB.reg'\n",
    "filt_file = wrappers.extract_det1_events(obs._evtfiles['B'][0], regfile=reg_file)\n",
    "\n",
    "# filt_file is now the full path to the extracted event file"
   ]
  },
  {
   "cell_type": "markdown",
   "metadata": {},
   "source": [
    "4. Make a script to use nuproducts to produce a lightcurve. Note that we have turned off all of the nuproducts flags that cause it to apply the PSF, exposure, and vignetting corrections. This does do the livetime corrections. For straylight sources the motion of the telescope pointing/mast shouldn't affect the response of the instrument, and we'll assume that we'll take care of computing the effective area when doing spectroscopy. **Note:** this wrapper has a \"barycorr\" option, but it is currently disabled. If you're doing pulsar timing with stray light then you'll probably want to construct the nuproducts call yourself."
   ]
  },
  {
   "cell_type": "code",
   "execution_count": null,
   "metadata": {},
   "outputs": [],
   "source": [
    "from astropy import units as u\n",
    "time_bin = 100*u.s\n",
    "lc_script = wrappers.make_det1_lightcurve(filt_file, mod='B', elow=3, ehigh=10, time_bin=time_bin, outpath=obs.out_path)\n",
    "# lc_script is now the path to the nuproducts script. It will be located wherever we set outpath, but if outpath is not set then defaults to the same location as the notebook.\n",
    "# Go run this in the shell"
   ]
  },
  {
   "cell_type": "markdown",
   "metadata": {},
   "source": [
    "5. Make a script to use nuproducts to produce a spectrum. Right now, this does not do anything with the background and does not produce an ARF on its own (see below). It will produce an RMF that will automatically be loaded when you load the data into Xspec."
   ]
  },
  {
   "cell_type": "code",
   "execution_count": null,
   "metadata": {},
   "outputs": [],
   "source": [
    "det1spec_script = wrappers.make_det1_spectra(filt_file, 'B', outpath=obs.out_path)\n",
    "# det1spec_script is now the path to the nuproducts script. It will be located wherever we set outpath, but if outpath is not set then defaults to the same location as the notebook.\n",
    "# Go run this in the shell"
   ]
  },
  {
   "cell_type": "markdown",
   "metadata": {},
   "source": [
    "6. Make and ARF. This is done \"by hand\" for now. To do this you also need to make a DET1 exposure map first. The detector area that you're using is currently bookkept into the ARF itself (but maybe should move to the AREASCAL keyword in the PHA file). This script uses the number of observed counts on each detectors to load in the DETABS values from the CALDB and multiplies this onto a base ARF that describes the attenuationin the Be window above the detectors. The ARF needs to be loaded by hand when using Xspec, or you can go use the fmodhead FTOOL to adjust the ANCRFILE keyword"
   ]
  },
  {
   "cell_type": "code",
   "execution_count": null,
   "metadata": {},
   "outputs": [],
   "source": [
    "expo_script = wrappers.make_exposure_map(obs, 'B', det_expo=True)\n",
    "# lc_script is now the path to the nuexpomap script. It will be located wherever we set outpath, but if outpath is not set then\n",
    "# defaults to the same location as the notebook. If det_expo=False then this produces a Sky exposure map rather than the DET1 exposure map.\n",
    "# Go run this in the shell"
   ]
  },
  {
   "cell_type": "code",
   "execution_count": null,
   "metadata": {},
   "outputs": [],
   "source": [
    "# You need to specify the location of the exposure map file produce by the script above:\n",
    "expo = obs.out_path+'/nu10402004004B_det1_expo.fits'\n",
    "utils.make_straylight_arf(expo, reg_file, filt_file, 'B', outpath=obs.out_path)\n",
    "# This runs inline and produces an ARF in obs.out_path.\n",
    "\n",
    "# We're now ready for Xspec analysis.\n",
    "\n",
    "# For convenience, you can go to obs.out_path and do something like this:\n",
    "fthedit nu10402004004B01_cl_srcB_sr.pha[1] keyword=ANCRFILE operation=add value=nu10402004004B01_cl_srcB.arf \n",
    "\n",
    "# ... note that the [1] is required to hit the correct FITS extension in the PHA file"
   ]
  }
 ],
 "metadata": {
  "kernelspec": {
   "display_name": "Python 3",
   "language": "python",
   "name": "python3"
  },
  "language_info": {
   "codemirror_mode": {
    "name": "ipython",
    "version": 3
   },
   "file_extension": ".py",
   "mimetype": "text/x-python",
   "name": "python",
   "nbconvert_exporter": "python",
   "pygments_lexer": "ipython3",
   "version": "3.7.4"
  }
 },
 "nbformat": 4,
 "nbformat_minor": 4
}
